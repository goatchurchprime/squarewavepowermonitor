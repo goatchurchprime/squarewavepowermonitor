{
 "cells": [
  {
   "cell_type": "markdown",
   "metadata": {},
   "source": [
    "#### First part\n",
    "Load from some MQTT dumped data files that have been created by running commands on the command line. \n",
    "We have 6 espurna plug sensors and one temperature sensor in the fridge.\n",
    "\n",
    "* Check the sonoff on low loads.  The fridge is reading a 1W spike every 20 seconds; if this is cumulative then it can be evened out.  \n",
    "* a no load gives zero readings, is it factored out?  put one after another.\n",
    "* Check this against a good DC regulator with a resistor.  V=IR p=VI=V^2/R=  5V would need 25ohm resistor makes 0.2amps\n",
    "* the idea of extending the qsegment backwards with its parameters to match points up there doesn't work\n",
    "\n",
    "* Next to try categorize short (more than 3) value segments to characterize their ranges and use them to project into the intermediate value\n",
    "\n",
    "* then group together noise elements that contain spikes (like the fridge)\n",
    "\n",
    "* Finally generate a series of points representing the sizes of these intervals by height and see if this is a smoother value to characterize the PWM from some kind of chaotic bouncing in this histeresis\n",
    "\n",
    "* given a sequence, what cut minimizes the sum of squares to the two sides"
   ]
  },
  {
   "cell_type": "code",
   "execution_count": 291,
   "metadata": {},
   "outputs": [
    {
     "name": "stdout",
     "output_type": "stream",
     "text": [
      "{'ESPURNA-8E30FD': 'Sophia Laser Cutter', 'ESPURNA-8E010B': 'VR computer', 'ESPURNA-8DFE16': 'Ultimaker Adam', 'ESPURNA-6821B6': 'Fridge', 'ESPURNA-8DF40E': 'Coffee Pot', 'ESPURNA-5483B8': 'CNC Machine', 'ESPURNA-547CD9': 'Ultimaker Felicity'}\n",
      "124762\n"
     ]
    }
   ],
   "source": [
    "import pandas\n",
    "\n",
    "# mosquitto_sub -v -h mqtt.local -t \"+/desc\" > powerdumpnames.txt\n",
    "espnames = {}\n",
    "for l in open(\"../sampledata/powerdumpnames.txt\").readlines():\n",
    "    p, n = l.split(\"/\", 1)\n",
    "    espnames[p] = n[4:].strip()\n",
    "print(espnames)\n",
    "\n",
    "# mosquitto_sub -v -h mqtt.local -t \"+/power\" | ts %.s > powerdump.txt\n",
    "k = pandas.read_csv(\"../sampledata/powerdump.txt\", delimiter=\" \", names=[\"t\", \"dev\", \"pow\"])\n",
    "tmin, tmax = k.iloc[0].t, k.iloc[-1].t\n",
    "k.t = k.t - tmin\n",
    "k.head()\n",
    "\n",
    "pows = [ ]\n",
    "pownames = [ ]\n",
    "for p in espnames:\n",
    "    x = k[k.dev == p+\"/power\"]\n",
    "    pownames.append(espnames[p])\n",
    "    x = x.set_index(\"t\")\n",
    "    x.index.name = None\n",
    "    pows.append(x[\"pow\"])\n",
    "\n",
    "print(len(k))\n",
    "\n",
    "# temp measuring file\n",
    "k = pandas.read_csv(\"../sampledata/ftempdump.txt\", delimiter=\" \", names=[\"t\", \"dev\", \"pow\"])\n",
    "k.t = k.t - tmin\n",
    "ta = k[k.dev == \"whitesp/tempambient\"]\n",
    "ta = ta.set_index(\"t\")\n",
    "ta.index.name = None\n",
    "ta = pandas.to_numeric(ta[\"pow\"])\n",
    "tir = k[k.dev == \"whitesp/tempir\"]\n",
    "tir = tir.set_index(\"t\")\n",
    "tir.index.name = None\n",
    "tir = pandas.to_numeric(tir[\"pow\"])\n"
   ]
  },
  {
   "cell_type": "markdown",
   "metadata": {},
   "source": [
    "#### Second part\n",
    "Once data is loaded, provide a time range widget for plotting the time series "
   ]
  },
  {
   "cell_type": "code",
   "execution_count": 292,
   "metadata": {},
   "outputs": [
    {
     "data": {
      "application/vnd.jupyter.widget-view+json": {
       "model_id": "e371aac756c04930847d9be811f1189a",
       "version_major": 2,
       "version_minor": 0
      },
      "text/plain": [
       "HBox(children=(FloatRangeSlider(value=(0.0, 17981.360940933228), continuous_update=False, layout=Layout(width=…"
      ]
     },
     "metadata": {},
     "output_type": "display_data"
    },
    {
     "data": {
      "application/vnd.jupyter.widget-view+json": {
       "model_id": "7907d76a9c8f4f7eb07c88e9207c974b",
       "version_major": 2,
       "version_minor": 0
      },
      "text/plain": [
       "Output(layout=Layout(height='400px'))"
      ]
     },
     "metadata": {},
     "output_type": "display_data"
    }
   ],
   "source": [
    "from ipywidgets import widgets\n",
    "from matplotlib import pyplot as plt\n",
    "%matplotlib inline\n",
    "import matplotlib\n",
    "\n",
    "    \n",
    "timerange = widgets.FloatRangeSlider(value=(0, tmax-tmin), min=0, max=tmax-tmin, continuous_update=False)\n",
    "timerange.layout.width = \"600px\"\n",
    "devplot = widgets.Dropdown(options=pownames+[\"all\"], value='all', continuous_update=False)\n",
    "ui = widgets.HBox([timerange, devplot])\n",
    "\n",
    "g = None\n",
    "def plotfigure(timerange, devsel):\n",
    "    global g\n",
    "    plt.figure(figsize=(11,6))\n",
    "    \n",
    "    if devsel in pownames:\n",
    "        ii = [pownames.index(devsel)]\n",
    "    else:\n",
    "        ii = list(range(len(pownames)))\n",
    "        \n",
    "    kwhtotal = 0\n",
    "    for i in ii:\n",
    "        s = pows[i].loc[timerange[0]:timerange[1]]\n",
    "        plt.plot(s, label=pownames[i], lw=1)\n",
    "        kwhtotal += sum((s.index.to_series().diff()*s).iloc[1:])/3600/1000\n",
    "        g = s\n",
    "        \n",
    "    if devsel == \"Fridge\":\n",
    "        s = ta.loc[timerange[0]:timerange[1]]\n",
    "        plt.plot(s*50, label=\"temp\", lw=1)\n",
    "        \n",
    "    plt.title(\"KWh=%.3f\" % kwhtotal)\n",
    "    plt.legend()\n",
    "    plt.show()\n",
    "    \n",
    "    \n",
    "params = {'timerange': timerange, \"devsel\":devplot }\n",
    "outputfigure = widgets.interactive_output(plotfigure, params)\n",
    "outputfigure.layout.height = '400px'\n",
    "display(ui, outputfigure);\n",
    "\n"
   ]
  },
  {
   "cell_type": "code",
   "execution_count": 294,
   "metadata": {},
   "outputs": [
    {
     "data": {
      "text/plain": [
       "(0, 1279, 17959)"
      ]
     },
     "execution_count": 294,
     "metadata": {},
     "output_type": "execute_result"
    }
   ],
   "source": [
    "vs = g.values\n",
    "min(vs), max(vs), len(vs)"
   ]
  },
  {
   "cell_type": "code",
   "execution_count": 315,
   "metadata": {},
   "outputs": [
    {
     "data": {
      "application/vnd.jupyter.widget-view+json": {
       "model_id": "0e1141e26da84bbead9fedc93ab93323",
       "version_major": 2,
       "version_minor": 0
      },
      "text/plain": [
       "HBox(children=(IntRangeSlider(value=(0, 100000), continuous_update=False, layout=Layout(width='600px'), max=10…"
      ]
     },
     "metadata": {},
     "output_type": "display_data"
    },
    {
     "data": {
      "application/vnd.jupyter.widget-view+json": {
       "model_id": "044af184e30246a9bff6566fd27617f4",
       "version_major": 2,
       "version_minor": 0
      },
      "text/plain": [
       "Output(layout=Layout(height='400px'))"
      ]
     },
     "metadata": {},
     "output_type": "display_data"
    }
   ],
   "source": [
    "vs = ig.values\n",
    "# single case one from vs\n",
    "timerange = widgets.IntRangeSlider(value=(0, len(vs)), min=0, max=len(vs), continuous_update=False)\n",
    "timerange.layout.width = \"600px\"\n",
    "ui = widgets.HBox([timerange])\n",
    "\n",
    "def plotfigure(timerange):\n",
    "    plt.figure(figsize=(11,6))\n",
    "    \n",
    "    s = vs[timerange[0]:timerange[1]]\n",
    "    plt.plot(s, lw=1)\n",
    "    if len(s) < 1000:\n",
    "        plt.scatter(range(len(s)), s)\n",
    "    plt.show()\n",
    "    \n",
    "params = {'timerange': timerange }\n",
    "outputfigure = widgets.interactive_output(plotfigure, params)\n",
    "outputfigure.layout.height = '400px'\n",
    "display(ui, outputfigure);\n"
   ]
  },
  {
   "cell_type": "code",
   "execution_count": 316,
   "metadata": {},
   "outputs": [],
   "source": [
    "from continuumseq import makecontinuumsegments\n",
    "cseqs = makecontinuumsegments(vs)\n"
   ]
  },
  {
   "cell_type": "code",
   "execution_count": 317,
   "metadata": {},
   "outputs": [
    {
     "data": {
      "text/plain": [
       "(61381, 1, 105, [53.0])"
      ]
     },
     "execution_count": 317,
     "metadata": {},
     "output_type": "execute_result"
    },
    {
     "data": {
      "image/png": "[encoded data removed]",
      "text/plain": [
       "<Figure size 432x288 with 1 Axes>"
      ]
     },
     "metadata": {
      "needs_background": "light"
     },
     "output_type": "display_data"
    }
   ],
   "source": [
    "flatsections = numpy.concatenate([cseq.cvs[int(cseq.xc):]  for cseq in cseqs  if cseq.leng >= 10]) # getflatcvs\n",
    "len(flatsections)\n",
    "plt.plot(flatsections)\n",
    "\n",
    "s = flatsections.copy()\n",
    "s.sort()\n",
    "def findicut(s):\n",
    "    sqsumcutforward = (s[:-1]**2).cumsum() - s[:-1].cumsum()**2/numpy.arange(1, len(s))\n",
    "    sqsumcutbackward = ((s[:0:-1]**2).cumsum() - s[:0:-1].cumsum()**2/numpy.arange(1, len(s)))[::-1]\n",
    "\n",
    "    #Dsqsumcutforward = numpy.array([ s[:i].var()*i  for i in range(1, len(s)) ])\n",
    "    #Dsqsumcutbackward = numpy.array([ s[i:].var()*(len(s)-i)  for i in range(1, len(s)) ])\n",
    "\n",
    "    icut, var = min(enumerate(sqsumcutforward+sqsumcutbackward), key=lambda X:X[1])\n",
    "    cutvalue = (s[icut] + s[icut+1])/2\n",
    "    return icut\n",
    "\n",
    "icut = findicut(s)\n",
    "cutval = [ (s[icut]+s[icut+1])/2 ]\n",
    "icut, s[icut], s[icut+1], cutval\n"
   ]
  },
  {
   "cell_type": "code",
   "execution_count": null,
   "metadata": {},
   "outputs": [],
   "source": [
    "# Use the icut to categorize the cseqs into different types"
   ]
  },
  {
   "cell_type": "code",
   "execution_count": 319,
   "metadata": {},
   "outputs": [
    {
     "data": {
      "text/plain": [
       "[<matplotlib.lines.Line2D at 0x7f8eff75f7b8>]"
      ]
     },
     "execution_count": 319,
     "metadata": {},
     "output_type": "execute_result"
    },
    {
     "data": {
      "image/png": "[encoded data removed]",
      "text/plain": [
       "<Figure size 432x288 with 1 Axes>"
      ]
     },
     "metadata": {
      "needs_background": "light"
     },
     "output_type": "display_data"
    }
   ],
   "source": [
    "a = [ cseq.leng  for cseq in cseqs if cseq.leng>10 and cseq.ya > 60]\n",
    "b = [ cseq.leng  for cseq in cseqs if cseq.leng>10 and cseq.ya < 60]\n",
    "plt.plot(a)\n",
    "plt.plot(b)\n"
   ]
  },
  {
   "cell_type": "code",
   "execution_count": 145,
   "metadata": {},
   "outputs": [
    {
     "data": {
      "text/plain": [
       "(1605, 200980.06491488873)"
      ]
     },
     "execution_count": 145,
     "metadata": {},
     "output_type": "execute_result"
    }
   ],
   "source": [
    "s = vs.copy()\n",
    "s.sort()\n",
    "plt.plot(s)\n",
    "s.var()*len(s)\n",
    "\n",
    "#s = numpy.array([0]*10 + [1]*30)\n",
    "def findicut(s):\n",
    "    vlo = numpy.array([ s[:i].var()*i  for i in range(1, len(s)-1) ])\n",
    "    vhi = numpy.array([ s[i:].var()*(len(s)-i)  for i in range(1, len(s)-1) ])\n",
    "    icut = min(enumerate(vlo+vhi), key=lambda X:X[1])[0] + 1\n",
    "    cutvalue = (s[icut-1] + s[icut])/2\n",
    "    return icut\n",
    "\n",
    "icutstack = [ (0,s) ]\n",
    "while icutstack:\n",
    "    depth, s = icutstack.pop()\n",
    "    plt.scatter([d], [s.mean()])\n",
    "    if depth <= 5:\n",
    "        \n",
    "    \n"
   ]
  },
  {
   "cell_type": "code",
   "execution_count": null,
   "metadata": {},
   "outputs": [],
   "source": []
  },
  {
   "cell_type": "code",
   "execution_count": null,
   "metadata": {},
   "outputs": [],
   "source": []
  },
  {
   "cell_type": "markdown",
   "metadata": {},
   "source": [
    "#### Third part\n",
    "Given a time series, can we categorize the different states?\n"
   ]
  },
  {
   "cell_type": "code",
   "execution_count": 69,
   "metadata": {},
   "outputs": [
    {
     "name": "stdout",
     "output_type": "stream",
     "text": [
      "1180 96\n"
     ]
    }
   ],
   "source": [
    "print(len(vs), len(cseqs))"
   ]
  },
  {
   "cell_type": "code",
   "execution_count": null,
   "metadata": {},
   "outputs": [],
   "source": []
  },
  {
   "cell_type": "code",
   "execution_count": null,
   "metadata": {},
   "outputs": [],
   "source": []
  },
  {
   "cell_type": "code",
   "execution_count": 308,
   "metadata": {},
   "outputs": [],
   "source": [
    "import influxdb\n",
    "client = influxdb.DataFrameClient(\"10.0.30.194\", 8086, \"root\", \"root\", \"balena-sense\")\n",
    "#client.query(\"select * from power limit 100\")\n",
    "#k = client.query(\"select value from power where location='ESPURNA-8E010B' limit 10\")\n",
    "#k[\"power\"]  # is a dataframe\n",
    "k = client.query(\"select * from fridgepower order by time desc limit 10\")\n",
    "ig = k[\"fridgepower\"].value  # the series\n",
    "\n",
    "# nodered flow\n",
    "# [{\"id\":\"11d5face.42c1bd\",\"type\":\"influxdb out\",\"z\":\"d84acda1.662b58\",\"influxdb\":\"a32c0730.b69478\",\"name\":\"\",\"measurement\":\"\",\"precision\":\"\",\"retentionPolicy\":\"\",\"x\":830,\"y\":380,\"wires\":[]},{\"id\":\"4a45ae2e.860a1\",\"type\":\"change\",\"z\":\"d84acda1.662b58\",\"name\":\"\",\"rules\":[{\"t\":\"set\",\"p\":\"payload\",\"pt\":\"msg\",\"to\":\"[\\t   {\\t       'value': $parseInteger(msg.payload, '0')\\t   }\\t]\",\"tot\":\"jsonata\"},{\"t\":\"set\",\"p\":\"measurement\",\"pt\":\"msg\",\"to\":\"fridgepower\",\"tot\":\"str\"}],\"action\":\"\",\"property\":\"\",\"from\":\"\",\"to\":\"\",\"reg\":false,\"x\":560,\"y\":320,\"wires\":[[\"94c7112e.d7e12\",\"11d5face.42c1bd\"]]},{\"id\":\"3d344cf3.84457c\",\"type\":\"mqtt in\",\"z\":\"d84acda1.662b58\",\"name\":\"Fridge power\",\"topic\":\"ESPURNA-6821B6/power\",\"qos\":\"2\",\"datatype\":\"auto\",\"broker\":\"9ed0b1d3.51a41\",\"x\":270,\"y\":320,\"wires\":[[\"4a45ae2e.860a1\"]]},{\"id\":\"a32c0730.b69478\",\"type\":\"influxdb\",\"z\":\"\",\"hostname\":\"influxdb\",\"port\":\"8086\",\"protocol\":\"http\",\"database\":\"balena-sense\",\"name\":\"InfluxDB Balena-Sense\",\"usetls\":false,\"tls\":\"\"},{\"id\":\"9ed0b1d3.51a41\",\"type\":\"mqtt-broker\",\"z\":\"\",\"name\":\"mosquitto\",\"broker\":\"mosquitto\",\"port\":\"1883\",\"clientid\":\"\",\"usetls\":false,\"compatmode\":true,\"keepalive\":\"60\",\"cleansession\":true,\"birthTopic\":\"\",\"birthQos\":\"0\",\"birthPayload\":\"\",\"closeTopic\":\"\",\"closeQos\":\"0\",\"closePayload\":\"\",\"willTopic\":\"\",\"willQos\":\"0\",\"willPayload\":\"\"}]\n"
   ]
  },
  {
   "cell_type": "code",
   "execution_count": 314,
   "metadata": {},
   "outputs": [
    {
     "data": {
      "text/plain": [
       "Timedelta('1 days 03:49:14.090415')"
      ]
     },
     "execution_count": 314,
     "metadata": {},
     "output_type": "execute_result"
    }
   ],
   "source": [
    "k = client.query(\"select * from fridgepower order by time desc limit 100000\")\n",
    "ig = k[\"fridgepower\"].value  # the series\n",
    "ig.index[-1] - ig.index[0]"
   ]
  },
  {
   "cell_type": "code",
   "execution_count": 165,
   "metadata": {},
   "outputs": [
    {
     "data": {
      "text/plain": [
       "[<matplotlib.lines.Line2D at 0x7f8f166cb710>]"
      ]
     },
     "execution_count": 165,
     "metadata": {},
     "output_type": "execute_result"
    },
    {
     "data": {
      "image/png": "[encoded data removed]",
      "text/plain": [
       "<Figure size 432x288 with 1 Axes>"
      ]
     },
     "metadata": {
      "needs_background": "light"
     },
     "output_type": "display_data"
    }
   ],
   "source": [
    "from ipywidgets import widgets\n",
    "from matplotlib import pyplot as plt\n",
    "%matplotlib inline\n",
    "import matplotlib\n",
    "plt.plot(s)"
   ]
  },
  {
   "cell_type": "code",
   "execution_count": 187,
   "metadata": {},
   "outputs": [
    {
     "data": {
      "text/plain": [
       "(119.51094670649718, 637)"
      ]
     },
     "execution_count": 187,
     "metadata": {},
     "output_type": "execute_result"
    }
   ],
   "source": [
    "# cseqs[50].xc, cseqs[50].leng\n"
   ]
  },
  {
   "cell_type": "code",
   "execution_count": null,
   "metadata": {},
   "outputs": [],
   "source": []
  },
  {
   "cell_type": "code",
   "execution_count": 188,
   "metadata": {},
   "outputs": [
    {
     "ename": "KeyboardInterrupt",
     "evalue": "",
     "output_type": "error",
     "traceback": [
      "\u001b[0;31m---------------------------------------------------------------------------\u001b[0m",
      "\u001b[0;31mKeyboardInterrupt\u001b[0m                         Traceback (most recent call last)",
      "\u001b[0;32m<ipython-input-188-54c1b5efe5c6>\u001b[0m in \u001b[0;36m<module>\u001b[0;34m\u001b[0m\n\u001b[1;32m      6\u001b[0m \u001b[0;34m\u001b[0m\u001b[0m\n\u001b[1;32m      7\u001b[0m \u001b[0;31m#s = numpy.array([0]*10 + [1]*30)\u001b[0m\u001b[0;34m\u001b[0m\u001b[0;34m\u001b[0m\u001b[0m\n\u001b[0;32m----> 8\u001b[0;31m \u001b[0mvlo\u001b[0m \u001b[0;34m=\u001b[0m \u001b[0mnumpy\u001b[0m\u001b[0;34m.\u001b[0m\u001b[0marray\u001b[0m\u001b[0;34m(\u001b[0m\u001b[0;34m[\u001b[0m \u001b[0ms\u001b[0m\u001b[0;34m[\u001b[0m\u001b[0;34m:\u001b[0m\u001b[0mi\u001b[0m\u001b[0;34m]\u001b[0m\u001b[0;34m.\u001b[0m\u001b[0mvar\u001b[0m\u001b[0;34m(\u001b[0m\u001b[0;34m)\u001b[0m\u001b[0;34m*\u001b[0m\u001b[0mi\u001b[0m  \u001b[0;32mfor\u001b[0m \u001b[0mi\u001b[0m \u001b[0;32min\u001b[0m \u001b[0mrange\u001b[0m\u001b[0;34m(\u001b[0m\u001b[0;36m1\u001b[0m\u001b[0;34m,\u001b[0m \u001b[0mlen\u001b[0m\u001b[0;34m(\u001b[0m\u001b[0ms\u001b[0m\u001b[0;34m)\u001b[0m\u001b[0;34m-\u001b[0m\u001b[0;36m1\u001b[0m\u001b[0;34m)\u001b[0m \u001b[0;34m]\u001b[0m\u001b[0;34m)\u001b[0m\u001b[0;34m\u001b[0m\u001b[0m\n\u001b[0m\u001b[1;32m      9\u001b[0m \u001b[0mvhi\u001b[0m \u001b[0;34m=\u001b[0m \u001b[0mnumpy\u001b[0m\u001b[0;34m.\u001b[0m\u001b[0marray\u001b[0m\u001b[0;34m(\u001b[0m\u001b[0;34m[\u001b[0m \u001b[0ms\u001b[0m\u001b[0;34m[\u001b[0m\u001b[0mi\u001b[0m\u001b[0;34m:\u001b[0m\u001b[0;34m]\u001b[0m\u001b[0;34m.\u001b[0m\u001b[0mvar\u001b[0m\u001b[0;34m(\u001b[0m\u001b[0;34m)\u001b[0m\u001b[0;34m*\u001b[0m\u001b[0;34m(\u001b[0m\u001b[0mlen\u001b[0m\u001b[0;34m(\u001b[0m\u001b[0ms\u001b[0m\u001b[0;34m)\u001b[0m\u001b[0;34m-\u001b[0m\u001b[0mi\u001b[0m\u001b[0;34m)\u001b[0m  \u001b[0;32mfor\u001b[0m \u001b[0mi\u001b[0m \u001b[0;32min\u001b[0m \u001b[0mrange\u001b[0m\u001b[0;34m(\u001b[0m\u001b[0;36m1\u001b[0m\u001b[0;34m,\u001b[0m \u001b[0mlen\u001b[0m\u001b[0;34m(\u001b[0m\u001b[0ms\u001b[0m\u001b[0;34m)\u001b[0m\u001b[0;34m-\u001b[0m\u001b[0;36m1\u001b[0m\u001b[0;34m)\u001b[0m \u001b[0;34m]\u001b[0m\u001b[0;34m)\u001b[0m\u001b[0;34m\u001b[0m\u001b[0m\n\u001b[1;32m     10\u001b[0m \u001b[0micut\u001b[0m \u001b[0;34m=\u001b[0m \u001b[0mmin\u001b[0m\u001b[0;34m(\u001b[0m\u001b[0menumerate\u001b[0m\u001b[0;34m(\u001b[0m\u001b[0mvlo\u001b[0m\u001b[0;34m+\u001b[0m\u001b[0mvhi\u001b[0m\u001b[0;34m)\u001b[0m\u001b[0;34m,\u001b[0m \u001b[0mkey\u001b[0m\u001b[0;34m=\u001b[0m\u001b[0;32mlambda\u001b[0m \u001b[0mX\u001b[0m\u001b[0;34m:\u001b[0m\u001b[0mX\u001b[0m\u001b[0;34m[\u001b[0m\u001b[0;36m1\u001b[0m\u001b[0;34m]\u001b[0m\u001b[0;34m)\u001b[0m\u001b[0;34m[\u001b[0m\u001b[0;36m0\u001b[0m\u001b[0;34m]\u001b[0m \u001b[0;34m+\u001b[0m \u001b[0;36m1\u001b[0m\u001b[0;34m\u001b[0m\u001b[0m\n",
      "\u001b[0;32m<ipython-input-188-54c1b5efe5c6>\u001b[0m in \u001b[0;36m<listcomp>\u001b[0;34m(.0)\u001b[0m\n\u001b[1;32m      6\u001b[0m \u001b[0;34m\u001b[0m\u001b[0m\n\u001b[1;32m      7\u001b[0m \u001b[0;31m#s = numpy.array([0]*10 + [1]*30)\u001b[0m\u001b[0;34m\u001b[0m\u001b[0;34m\u001b[0m\u001b[0m\n\u001b[0;32m----> 8\u001b[0;31m \u001b[0mvlo\u001b[0m \u001b[0;34m=\u001b[0m \u001b[0mnumpy\u001b[0m\u001b[0;34m.\u001b[0m\u001b[0marray\u001b[0m\u001b[0;34m(\u001b[0m\u001b[0;34m[\u001b[0m \u001b[0ms\u001b[0m\u001b[0;34m[\u001b[0m\u001b[0;34m:\u001b[0m\u001b[0mi\u001b[0m\u001b[0;34m]\u001b[0m\u001b[0;34m.\u001b[0m\u001b[0mvar\u001b[0m\u001b[0;34m(\u001b[0m\u001b[0;34m)\u001b[0m\u001b[0;34m*\u001b[0m\u001b[0mi\u001b[0m  \u001b[0;32mfor\u001b[0m \u001b[0mi\u001b[0m \u001b[0;32min\u001b[0m \u001b[0mrange\u001b[0m\u001b[0;34m(\u001b[0m\u001b[0;36m1\u001b[0m\u001b[0;34m,\u001b[0m \u001b[0mlen\u001b[0m\u001b[0;34m(\u001b[0m\u001b[0ms\u001b[0m\u001b[0;34m)\u001b[0m\u001b[0;34m-\u001b[0m\u001b[0;36m1\u001b[0m\u001b[0;34m)\u001b[0m \u001b[0;34m]\u001b[0m\u001b[0;34m)\u001b[0m\u001b[0;34m\u001b[0m\u001b[0m\n\u001b[0m\u001b[1;32m      9\u001b[0m \u001b[0mvhi\u001b[0m \u001b[0;34m=\u001b[0m \u001b[0mnumpy\u001b[0m\u001b[0;34m.\u001b[0m\u001b[0marray\u001b[0m\u001b[0;34m(\u001b[0m\u001b[0;34m[\u001b[0m \u001b[0ms\u001b[0m\u001b[0;34m[\u001b[0m\u001b[0mi\u001b[0m\u001b[0;34m:\u001b[0m\u001b[0;34m]\u001b[0m\u001b[0;34m.\u001b[0m\u001b[0mvar\u001b[0m\u001b[0;34m(\u001b[0m\u001b[0;34m)\u001b[0m\u001b[0;34m*\u001b[0m\u001b[0;34m(\u001b[0m\u001b[0mlen\u001b[0m\u001b[0;34m(\u001b[0m\u001b[0ms\u001b[0m\u001b[0;34m)\u001b[0m\u001b[0;34m-\u001b[0m\u001b[0mi\u001b[0m\u001b[0;34m)\u001b[0m  \u001b[0;32mfor\u001b[0m \u001b[0mi\u001b[0m \u001b[0;32min\u001b[0m \u001b[0mrange\u001b[0m\u001b[0;34m(\u001b[0m\u001b[0;36m1\u001b[0m\u001b[0;34m,\u001b[0m \u001b[0mlen\u001b[0m\u001b[0;34m(\u001b[0m\u001b[0ms\u001b[0m\u001b[0;34m)\u001b[0m\u001b[0;34m-\u001b[0m\u001b[0;36m1\u001b[0m\u001b[0;34m)\u001b[0m \u001b[0;34m]\u001b[0m\u001b[0;34m)\u001b[0m\u001b[0;34m\u001b[0m\u001b[0m\n\u001b[1;32m     10\u001b[0m \u001b[0micut\u001b[0m \u001b[0;34m=\u001b[0m \u001b[0mmin\u001b[0m\u001b[0;34m(\u001b[0m\u001b[0menumerate\u001b[0m\u001b[0;34m(\u001b[0m\u001b[0mvlo\u001b[0m\u001b[0;34m+\u001b[0m\u001b[0mvhi\u001b[0m\u001b[0;34m)\u001b[0m\u001b[0;34m,\u001b[0m \u001b[0mkey\u001b[0m\u001b[0;34m=\u001b[0m\u001b[0;32mlambda\u001b[0m \u001b[0mX\u001b[0m\u001b[0;34m:\u001b[0m\u001b[0mX\u001b[0m\u001b[0;34m[\u001b[0m\u001b[0;36m1\u001b[0m\u001b[0;34m]\u001b[0m\u001b[0;34m)\u001b[0m\u001b[0;34m[\u001b[0m\u001b[0;36m0\u001b[0m\u001b[0;34m]\u001b[0m \u001b[0;34m+\u001b[0m \u001b[0;36m1\u001b[0m\u001b[0;34m\u001b[0m\u001b[0m\n",
      "\u001b[0;32m~/anaconda3/lib/python3.6/site-packages/numpy/core/_methods.py\u001b[0m in \u001b[0;36m_var\u001b[0;34m(a, axis, dtype, out, ddof, keepdims)\u001b[0m\n\u001b[1;32m    105\u001b[0m     \u001b[0;31m# Note that if dtype is not of inexact type then arraymean will\u001b[0m\u001b[0;34m\u001b[0m\u001b[0;34m\u001b[0m\u001b[0m\n\u001b[1;32m    106\u001b[0m     \u001b[0;31m# not be either.\u001b[0m\u001b[0;34m\u001b[0m\u001b[0;34m\u001b[0m\u001b[0m\n\u001b[0;32m--> 107\u001b[0;31m     \u001b[0marrmean\u001b[0m \u001b[0;34m=\u001b[0m \u001b[0mumr_sum\u001b[0m\u001b[0;34m(\u001b[0m\u001b[0marr\u001b[0m\u001b[0;34m,\u001b[0m \u001b[0maxis\u001b[0m\u001b[0;34m,\u001b[0m \u001b[0mdtype\u001b[0m\u001b[0;34m,\u001b[0m \u001b[0mkeepdims\u001b[0m\u001b[0;34m=\u001b[0m\u001b[0;32mTrue\u001b[0m\u001b[0;34m)\u001b[0m\u001b[0;34m\u001b[0m\u001b[0m\n\u001b[0m\u001b[1;32m    108\u001b[0m     \u001b[0;32mif\u001b[0m \u001b[0misinstance\u001b[0m\u001b[0;34m(\u001b[0m\u001b[0marrmean\u001b[0m\u001b[0;34m,\u001b[0m \u001b[0mmu\u001b[0m\u001b[0;34m.\u001b[0m\u001b[0mndarray\u001b[0m\u001b[0;34m)\u001b[0m\u001b[0;34m:\u001b[0m\u001b[0;34m\u001b[0m\u001b[0m\n\u001b[1;32m    109\u001b[0m         arrmean = um.true_divide(\n",
      "\u001b[0;31mKeyboardInterrupt\u001b[0m: "
     ]
    },
    {
     "data": {
      "image/png": "[encoded data removed]",
      "text/plain": [
       "<Figure size 432x288 with 1 Axes>"
      ]
     },
     "metadata": {
      "needs_background": "light"
     },
     "output_type": "display_data"
    }
   ],
   "source": [
    "# Look for cuts that minimize the std values and see if it can get the 3 components\n",
    "s = vs.copy()\n",
    "s.sort()\n",
    "#plt.plot(s)\n",
    "s.var()*len(s)\n",
    "\n",
    "#s = numpy.array([0]*10 + [1]*30)\n",
    "vlo = numpy.array([ s[:i].var()*i  for i in range(1, len(s)-1) ])\n",
    "vhi = numpy.array([ s[i:].var()*(len(s)-i)  for i in range(1, len(s)-1) ])\n",
    "icut = min(enumerate(vlo+vhi), key=lambda X:X[1])[0] + 1\n",
    "cutvalue = (s[icut-1] + s[icut])/2\n",
    "icut, s[icut-1], s[icut]\n"
   ]
  },
  {
   "cell_type": "code",
   "execution_count": 290,
   "metadata": {},
   "outputs": [
    {
     "data": {
      "text/plain": [
       "[<matplotlib.lines.Line2D at 0x7f8eff64b710>]"
      ]
     },
     "execution_count": 290,
     "metadata": {},
     "output_type": "execute_result"
    },
    {
     "data": {
      "image/png": "[encoded data removed]",
      "text/plain": [
       "<Figure size 432x288 with 1 Axes>"
      ]
     },
     "metadata": {
      "needs_background": "light"
     },
     "output_type": "display_data"
    }
   ],
   "source": [
    "\n",
    "flatsections = numpy.concatenate([cseq.cvs[int(cseq.xc):]  for cseq in cseqs  if cseq.leng >= 10]) # getflatcvs\n",
    "len(flatsections)\n",
    "plt.plot(flatsections)\n",
    "#plt.plot(vs)\n"
   ]
  },
  {
   "cell_type": "code",
   "execution_count": 262,
   "metadata": {},
   "outputs": [],
   "source": [
    "s = vs.copy()\n",
    "#s = numpy.array([1,2,3])\n",
    "#s = numpy.random.random_sample(100)\n",
    "s.sort()\n",
    "\n",
    "def findicut(s):\n",
    "    sqsumcutforward = (s[:-1]**2).cumsum() - s[:-1].cumsum()**2/numpy.arange(1, len(s))\n",
    "    sqsumcutbackward = ((s[:0:-1]**2).cumsum() - s[:0:-1].cumsum()**2/numpy.arange(1, len(s)))[::-1]\n",
    "\n",
    "    #Dsqsumcutforward = numpy.array([ s[:i].var()*i  for i in range(1, len(s)) ])\n",
    "    #Dsqsumcutbackward = numpy.array([ s[i:].var()*(len(s)-i)  for i in range(1, len(s)) ])\n",
    "\n",
    "    icut, var = min(enumerate(sqsumcutforward+sqsumcutbackward), key=lambda X:X[1])\n",
    "    cutvalue = (s[icut] + s[icut+1])/2\n",
    "    icut, s[icut], s[icut+1], var\n",
    "    return icut\n"
   ]
  },
  {
   "cell_type": "code",
   "execution_count": 275,
   "metadata": {},
   "outputs": [
    {
     "name": "stdout",
     "output_type": "stream",
     "text": [
      "3398.7182113199 0.059652290746250496 1266.1859727162737\n",
      "1266.1859727162737 28.14278434960644 43193.487024221446\n",
      "43193.487024221446 15420.567665289256 7424.12326388889\n",
      "15420.567665289256 3639.395555555556 3393.200951248514\n",
      "7424.12326388889 1858.7777777777778 134.1388888888889\n"
     ]
    }
   ],
   "source": [
    "icuts = [ ]\n",
    "depths = [ ]\n",
    "maxdepth = 3\n",
    "def icutrecurse(s, depth):\n",
    "    if s.std() < 6:\n",
    "        return\n",
    "    if len(s) > 2:\n",
    "        icut = findicut(s)\n",
    "        print(s.var(), s[:icut+1].var(), s[icut+1:].var())\n",
    "        icuts.append((s[icut] + s[icut+1])/2)\n",
    "        depths.append(depth)\n",
    "        if depth < maxdepth:\n",
    "            icutrecurse(s[:icut+1], depth+1)\n",
    "            icutrecurse(s[icut+1:], depth+1)\n",
    "icutrecurse(s, 0)          "
   ]
  },
  {
   "cell_type": "code",
   "execution_count": 276,
   "metadata": {},
   "outputs": [
    {
     "data": {
      "image/png": "[encoded data removed]",
      "text/plain": [
       "<Figure size 432x288 with 1 Axes>"
      ]
     },
     "metadata": {
      "needs_background": "light"
     },
     "output_type": "display_data"
    }
   ],
   "source": [
    "plt.plot(s)\n",
    "for i in range(len(icuts)):\n",
    "    plt.plot([depths[i]*20000, (maxdepth+1)*20000], [icuts[i], icuts[i]], color=\"red\")\n"
   ]
  },
  {
   "cell_type": "code",
   "execution_count": 279,
   "metadata": {},
   "outputs": [],
   "source": [
    "numpy.concatenate()"
   ]
  },
  {
   "cell_type": "code",
   "execution_count": 243,
   "metadata": {},
   "outputs": [
    {
     "data": {
      "text/plain": [
       "(array([9.97812641e-01, 7.62843406e-01, 5.80242994e-01, 3.90788832e-01,\n",
       "        1.59117450e-01, 8.72264082e-02, 3.16019763e-02, 7.69595741e-05,\n",
       "        0.00000000e+00]),\n",
       " array([9.97812641e-01, 7.62843406e-01, 5.80242994e-01, 3.90788832e-01,\n",
       "        1.59117450e-01, 8.72264082e-02, 3.16019763e-02, 7.69595741e-05,\n",
       "        0.00000000e+00]),\n",
       " array([-2.22044605e-16, -4.44089210e-16,  0.00000000e+00,  5.55111512e-16,\n",
       "         1.11022302e-16, -6.93889390e-17, -3.40005801e-16, -2.43376283e-16,\n",
       "         0.00000000e+00]))"
      ]
     },
     "execution_count": 243,
     "metadata": {},
     "output_type": "execute_result"
    }
   ],
   "source": [
    "sqsumcutbackward = (s[:0:-1]**2).cumsum() - s[:0:-1].cumsum()**2/numpy.arange(1, len(s))\n",
    "sqsumcutbackward = sqsumcutbackward[::-1]\n",
    "sqsumcutbackward, Dsqsumcutbackward,sqsumcutbackward- Dsqsumcutbackward"
   ]
  },
  {
   "cell_type": "code",
   "execution_count": null,
   "metadata": {},
   "outputs": [],
   "source": []
  },
  {
   "cell_type": "code",
   "execution_count": null,
   "metadata": {},
   "outputs": [],
   "source": [
    "s"
   ]
  },
  {
   "cell_type": "code",
   "execution_count": 214,
   "metadata": {},
   "outputs": [
    {
     "data": {
      "text/plain": [
       "(1499, 1, 2)"
      ]
     },
     "execution_count": 214,
     "metadata": {},
     "output_type": "execute_result"
    }
   ],
   "source": [
    "s = numpy.array([0]*799 + [1]*700 + [2]*800)\n",
    "vlo = numpy.array([ s[:i].var()*i  for i in range(1, len(s)-1) ])\n",
    "vhi = numpy.array([ s[i:].var()*(len(s)-i)  for i in range(1, len(s)-1) ])\n",
    "icut = min(enumerate(vlo+vhi), key=lambda X:X[1])[0] + 1\n",
    "cutvalue = (s[icut-1] + s[icut])/2\n",
    "icut, s[icut-1], s[icut]\n"
   ]
  },
  {
   "cell_type": "code",
   "execution_count": 215,
   "metadata": {},
   "outputs": [
    {
     "data": {
      "text/plain": [
       "[<matplotlib.lines.Line2D at 0x7f8f1441b6a0>]"
      ]
     },
     "execution_count": 215,
     "metadata": {},
     "output_type": "execute_result"
    },
    {
     "data": {
      "image/png": "[encoded data removed]",
      "text/plain": [
       "<Figure size 432x288 with 1 Axes>"
      ]
     },
     "metadata": {
      "needs_background": "light"
     },
     "output_type": "display_data"
    }
   ],
   "source": [
    "plt.plot(vlo+vhi)"
   ]
  },
  {
   "cell_type": "code",
   "execution_count": null,
   "metadata": {},
   "outputs": [],
   "source": []
  }
 ],
 "metadata": {
  "kernelspec": {
   "display_name": "Python 3",
   "language": "python",
   "name": "python3"
  },
  "language_info": {
   "codemirror_mode": {
    "name": "ipython",
    "version": 3
   },
   "file_extension": ".py",
   "mimetype": "text/x-python",
   "name": "python",
   "nbconvert_exporter": "python",
   "pygments_lexer": "ipython3",
   "version": "3.6.6"
  }
 },
 "nbformat": 4,
 "nbformat_minor": 2
}
